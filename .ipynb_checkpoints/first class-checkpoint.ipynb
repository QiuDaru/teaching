{
 "cells": [
  {
   "cell_type": "code",
   "execution_count": 1,
   "id": "5ba0d21e",
   "metadata": {},
   "outputs": [
    {
     "data": {
      "text/plain": [
       "3"
      ]
     },
     "execution_count": 1,
     "metadata": {},
     "output_type": "execute_result"
    }
   ],
   "source": [
    "1+2\n"
   ]
  },
  {
   "cell_type": "code",
   "execution_count": 2,
   "id": "2d951daf",
   "metadata": {},
   "outputs": [
    {
     "data": {
      "text/plain": [
       "13"
      ]
     },
     "execution_count": 2,
     "metadata": {},
     "output_type": "execute_result"
    }
   ],
   "source": [
    "5+8\n"
   ]
  },
  {
   "cell_type": "code",
   "execution_count": 4,
   "id": "aaea0181",
   "metadata": {},
   "outputs": [
    {
     "data": {
      "text/plain": [
       "10"
      ]
     },
     "execution_count": 4,
     "metadata": {},
     "output_type": "execute_result"
    }
   ],
   "source": [
    "a=7+3\n",
    "a"
   ]
  },
  {
   "cell_type": "code",
   "execution_count": 5,
   "id": "2aa9f876",
   "metadata": {},
   "outputs": [
    {
     "name": "stdout",
     "output_type": "stream",
     "text": [
      "你好\n"
     ]
    }
   ],
   "source": [
    "print(\"你好\")"
   ]
  },
  {
   "cell_type": "code",
   "execution_count": 7,
   "id": "d9106a5c",
   "metadata": {},
   "outputs": [
    {
     "data": {
      "text/plain": [
       "'你好'"
      ]
     },
     "execution_count": 7,
     "metadata": {},
     "output_type": "execute_result"
    }
   ],
   "source": [
    "\"你好\"#這東西酷ㄟ"
   ]
  },
  {
   "cell_type": "code",
   "execution_count": 18,
   "id": "d3b6ef3f",
   "metadata": {},
   "outputs": [
    {
     "data": {
      "text/plain": [
       "('1', '3')"
      ]
     },
     "execution_count": 18,
     "metadata": {},
     "output_type": "execute_result"
    }
   ],
   "source": [
    "(9,5,7,5,12)\n",
    "(\"1\",\"3\")\n"
   ]
  },
  {
   "cell_type": "code",
   "execution_count": null,
   "id": "eba2e8da",
   "metadata": {},
   "outputs": [],
   "source": [
    "[16,3,23,1]\n",
    "[\"1\",\"5\"]"
   ]
  },
  {
   "cell_type": "code",
   "execution_count": null,
   "id": "3a41b015",
   "metadata": {},
   "outputs": [],
   "source": [
    "{1,2,3,4,5,6,7}"
   ]
  }
 ],
 "metadata": {
  "kernelspec": {
   "display_name": "Python 3 (ipykernel)",
   "language": "python",
   "name": "python3"
  },
  "language_info": {
   "codemirror_mode": {
    "name": "ipython",
    "version": 3
   },
   "file_extension": ".py",
   "mimetype": "text/x-python",
   "name": "python",
   "nbconvert_exporter": "python",
   "pygments_lexer": "ipython3",
   "version": "3.9.7"
  }
 },
 "nbformat": 4,
 "nbformat_minor": 5
}
